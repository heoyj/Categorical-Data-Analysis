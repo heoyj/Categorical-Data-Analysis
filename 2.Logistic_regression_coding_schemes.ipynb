{
 "cells": [
  {
   "cell_type": "markdown",
   "metadata": {},
   "source": [
    "# 2. Logistic regression with different coding schemes"
   ]
  },
  {
   "cell_type": "code",
   "execution_count": 1,
   "metadata": {
    "collapsed": true
   },
   "outputs": [],
   "source": [
    "setwd(\"/Users/folder_name\")"
   ]
  },
  {
   "cell_type": "code",
   "execution_count": 21,
   "metadata": {
    "collapsed": false
   },
   "outputs": [
    {
     "data": {
      "text/html": [
       "<dl class=dl-horizontal>\n",
       "\t<dt>unordered</dt>\n",
       "\t\t<dd>'contr.treatment'</dd>\n",
       "\t<dt>ordered</dt>\n",
       "\t\t<dd>'contr.poly'</dd>\n",
       "</dl>\n"
      ],
      "text/latex": [
       "\\begin{description*}\n",
       "\\item[unordered] 'contr.treatment'\n",
       "\\item[ordered] 'contr.poly'\n",
       "\\end{description*}\n"
      ],
      "text/markdown": [
       "unordered\n",
       ":   'contr.treatment'ordered\n",
       ":   'contr.poly'\n",
       "\n"
      ],
      "text/plain": [
       "        unordered           ordered \n",
       "\"contr.treatment\"      \"contr.poly\" "
      ]
     },
     "metadata": {},
     "output_type": "display_data"
    }
   ],
   "source": [
    "# look at the coding default in R and change it\n",
    "getOption(\"contrasts\") # check the default coding"
   ]
  },
  {
   "cell_type": "code",
   "execution_count": 3,
   "metadata": {
    "collapsed": true
   },
   "outputs": [],
   "source": [
    "#options(contrasts=c(\"contr.sum\",\"contr.poly\")) # change nominal category default to sum-to-zero constraint\n",
    "#options()$contrasts\n",
    "\n",
    "#options(contrasts=c(\"contr.treatment\",\"contr.poly\")) # change it back to treatment\n",
    "#options()$contrasts"
   ]
  },
  {
   "cell_type": "markdown",
   "metadata": {},
   "source": [
    "## Example : Lung cancer (Y) and Smoker (X)"
   ]
  },
  {
   "cell_type": "code",
   "execution_count": 4,
   "metadata": {
    "collapsed": false
   },
   "outputs": [
    {
     "data": {
      "text/html": [
       "<table>\n",
       "<thead><tr><th></th><th scope=col>cigarettes</th><th scope=col>score</th><th scope=col>cases</th><th scope=col>controls</th></tr></thead>\n",
       "<tbody>\n",
       "\t<tr><th scope=row>1</th><td>None</td><td>0   </td><td>7   </td><td>61  </td></tr>\n",
       "\t<tr><th scope=row>2</th><td>&lt; 5</td><td>1     </td><td>55    </td><td>129   </td></tr>\n",
       "\t<tr><th scope=row>3</th><td>5-14</td><td>2   </td><td>489 </td><td>570 </td></tr>\n",
       "\t<tr><th scope=row>4</th><td>15-24</td><td>3    </td><td>475  </td><td>431  </td></tr>\n",
       "\t<tr><th scope=row>5</th><td>25--49</td><td>4     </td><td>293   </td><td>154   </td></tr>\n",
       "\t<tr><th scope=row>6</th><td>50+</td><td>5  </td><td>38 </td><td>12 </td></tr>\n",
       "</tbody>\n",
       "</table>\n"
      ],
      "text/latex": [
       "\\begin{tabular}{r|llll}\n",
       "  & cigarettes & score & cases & controls\\\\\n",
       "\\hline\n",
       "\t1 & None & 0    & 7    & 61  \\\\\n",
       "\t2 & < 5 & 1   & 55  & 129\\\\\n",
       "\t3 & 5-14 & 2    & 489  & 570 \\\\\n",
       "\t4 & 15-24 & 3     & 475   & 431  \\\\\n",
       "\t5 & 25--49 & 4      & 293    & 154   \\\\\n",
       "\t6 & 50+ & 5   & 38  & 12 \\\\\n",
       "\\end{tabular}\n"
      ],
      "text/plain": [
       "  cigarettes score cases controls\n",
       "1       None     0     7       61\n",
       "2        < 5     1    55      129\n",
       "3       5-14     2   489      570\n",
       "4      15-24     3   475      431\n",
       "5     25--49     4   293      154\n",
       "6        50+     5    38       12"
      ]
     },
     "metadata": {},
     "output_type": "display_data"
    }
   ],
   "source": [
    "# read in the lung cancer data set\n",
    "lc = read.table(\"/Users/folder_name/lungcancer.txt\",header=T)\n",
    "lc"
   ]
  },
  {
   "cell_type": "code",
   "execution_count": 5,
   "metadata": {
    "collapsed": false
   },
   "outputs": [
    {
     "data": {
      "text/html": [
       "TRUE"
      ],
      "text/latex": [
       "TRUE"
      ],
      "text/markdown": [
       "TRUE"
      ],
      "text/plain": [
       "[1] TRUE"
      ]
     },
     "metadata": {},
     "output_type": "display_data"
    },
    {
     "data": {
      "text/html": [
       "<ol class=list-inline>\n",
       "\t<li>'&lt; 5'</li>\n",
       "\t<li>'15-24'</li>\n",
       "\t<li>'25--49'</li>\n",
       "\t<li>'5-14'</li>\n",
       "\t<li>'50+'</li>\n",
       "\t<li>'None'</li>\n",
       "</ol>\n"
      ],
      "text/latex": [
       "\\begin{enumerate*}\n",
       "\\item '< 5'\n",
       "\\item '15-24'\n",
       "\\item '25--49'\n",
       "\\item '5-14'\n",
       "\\item '50+'\n",
       "\\item 'None'\n",
       "\\end{enumerate*}\n"
      ],
      "text/markdown": [
       "1. '&lt; 5'\n",
       "2. '15-24'\n",
       "3. '25--49'\n",
       "4. '5-14'\n",
       "5. '50+'\n",
       "6. 'None'\n",
       "\n",
       "\n"
      ],
      "text/plain": [
       "[1] \"< 5\"    \"15-24\"  \"25--49\" \"5-14\"   \"50+\"    \"None\"  "
      ]
     },
     "metadata": {},
     "output_type": "display_data"
    }
   ],
   "source": [
    "is.factor(lc$cigarettes) # is cigarettes a factor?\n",
    "levels(lc$cigarettes) # check the levels , \"< 5\" is the reference group"
   ]
  },
  {
   "cell_type": "code",
   "execution_count": 6,
   "metadata": {
    "collapsed": false
   },
   "outputs": [
    {
     "data": {
      "text/html": [
       "<ol class=list-inline>\n",
       "\t<li>'None'</li>\n",
       "\t<li>'&lt; 5'</li>\n",
       "\t<li>'5-14'</li>\n",
       "\t<li>'15-24'</li>\n",
       "\t<li>'25--49'</li>\n",
       "\t<li>'50+'</li>\n",
       "</ol>\n"
      ],
      "text/latex": [
       "\\begin{enumerate*}\n",
       "\\item 'None'\n",
       "\\item '< 5'\n",
       "\\item '5-14'\n",
       "\\item '15-24'\n",
       "\\item '25--49'\n",
       "\\item '50+'\n",
       "\\end{enumerate*}\n"
      ],
      "text/markdown": [
       "1. 'None'\n",
       "2. '&lt; 5'\n",
       "3. '5-14'\n",
       "4. '15-24'\n",
       "5. '25--49'\n",
       "6. '50+'\n",
       "\n",
       "\n"
      ],
      "text/plain": [
       "[1] \"None\"   \"< 5\"    \"5-14\"   \"15-24\"  \"25--49\" \"50+\"   "
      ]
     },
     "metadata": {},
     "output_type": "display_data"
    }
   ],
   "source": [
    "lc$cigarettes = factor(lc$cigarettes,levels=levels(lc$cigarettes)[c(6,1,4,2,3,5)]) # change the reference group\n",
    "levels(lc$cigarettes) # check the levels , \"None\" is the reference group"
   ]
  },
  {
   "cell_type": "code",
   "execution_count": 7,
   "metadata": {
    "collapsed": false
   },
   "outputs": [
    {
     "data": {
      "text/html": [
       "<dl>\n",
       "\t<dt>$levels</dt>\n",
       "\t\t<dd><ol class=list-inline>\n",
       "\t<li>'None'</li>\n",
       "\t<li>'&lt; 5'</li>\n",
       "\t<li>'5-14'</li>\n",
       "\t<li>'15-24'</li>\n",
       "\t<li>'25--49'</li>\n",
       "\t<li>'50+'</li>\n",
       "</ol>\n",
       "</dd>\n",
       "\t<dt>$class</dt>\n",
       "\t\t<dd>'factor'</dd>\n",
       "</dl>\n"
      ],
      "text/latex": [
       "\\begin{description}\n",
       "\\item[\\$levels] \\begin{enumerate*}\n",
       "\\item 'None'\n",
       "\\item '< 5'\n",
       "\\item '5-14'\n",
       "\\item '15-24'\n",
       "\\item '25--49'\n",
       "\\item '50+'\n",
       "\\end{enumerate*}\n",
       "\n",
       "\\item[\\$class] 'factor'\n",
       "\\end{description}\n"
      ],
      "text/markdown": [
       "$levels\n",
       ":   1. 'None'\n",
       "2. '&lt; 5'\n",
       "3. '5-14'\n",
       "4. '15-24'\n",
       "5. '25--49'\n",
       "6. '50+'\n",
       "\n",
       "\n",
       "\n",
       "$class\n",
       ":   'factor'\n",
       "\n",
       "\n"
      ],
      "text/plain": [
       "$levels\n",
       "[1] \"None\"   \"< 5\"    \"5-14\"   \"15-24\"  \"25--49\" \"50+\"   \n",
       "\n",
       "$class\n",
       "[1] \"factor\"\n"
      ]
     },
     "metadata": {},
     "output_type": "display_data"
    }
   ],
   "source": [
    "attributes(lc$cigarettes) # what are its attributes"
   ]
  },
  {
   "cell_type": "markdown",
   "metadata": {},
   "source": [
    "## Fitting linear logitstic model"
   ]
  },
  {
   "cell_type": "markdown",
   "metadata": {},
   "source": [
    "### 1. ANOVA type "
   ]
  },
  {
   "cell_type": "code",
   "execution_count": 9,
   "metadata": {
    "collapsed": false
   },
   "outputs": [
    {
     "data": {
      "text/plain": [
       "\n",
       "Call:\n",
       "glm(formula = cbind(cases, controls) ~ cigarettes, family = binomial(), \n",
       "    data = lc)\n",
       "\n",
       "Deviance Residuals: \n",
       "[1]  0  0  0  0  0  0\n",
       "\n",
       "Coefficients:\n",
       "                 Estimate Std. Error z value Pr(>|z|)    \n",
       "(Intercept)       -2.1650     0.3991  -5.425 5.79e-08 ***\n",
       "cigarettes< 5      1.3125     0.4303   3.050  0.00229 ** \n",
       "cigarettes5-14     2.0117     0.4038   4.982 6.29e-07 ***\n",
       "cigarettes15-24    2.2622     0.4046   5.592 2.25e-08 ***\n",
       "cigarettes25--49   2.8082     0.4113   6.828 8.62e-12 ***\n",
       "cigarettes50+      3.3176     0.5186   6.398 1.58e-10 ***\n",
       "---\n",
       "Signif. codes:  0 ‘***’ 0.001 ‘**’ 0.01 ‘*’ 0.05 ‘.’ 0.1 ‘ ’ 1\n",
       "\n",
       "(Dispersion parameter for binomial family taken to be 1)\n",
       "\n",
       "    Null deviance:  1.4630e+02  on 5  degrees of freedom\n",
       "Residual deviance: -5.4623e-14  on 0  degrees of freedom\n",
       "AIC: 46.38\n",
       "\n",
       "Number of Fisher Scoring iterations: 3\n"
      ]
     },
     "metadata": {},
     "output_type": "display_data"
    }
   ],
   "source": [
    "lc.fit1 = glm(cbind(cases,controls)~cigarettes,data=lc,family=binomial())\n",
    "summary(lc.fit1)"
   ]
  },
  {
   "cell_type": "markdown",
   "metadata": {},
   "source": [
    "- __intercept__ is the log odds for non-smokers\n",
    "- __other parameter estimates__ are the __log odds ratios relative to non-smokers__ for the other 5 levels of smoking"
   ]
  },
  {
   "cell_type": "code",
   "execution_count": 10,
   "metadata": {
    "collapsed": false
   },
   "outputs": [
    {
     "data": {
      "text/html": [
       "<table>\n",
       "<thead><tr><th></th><th scope=col>(Intercept)</th><th scope=col>cigarettes&lt; 5</th><th scope=col>cigarettes5-14</th><th scope=col>cigarettes15-24</th><th scope=col>cigarettes25--49</th><th scope=col>cigarettes50+</th></tr></thead>\n",
       "<tbody>\n",
       "\t<tr><th scope=row>(Intercept)</th><td> 0.1592505</td><td>-0.1592505</td><td>-0.1592505</td><td>-0.1592505</td><td>-0.1592505</td><td>-0.1592505</td></tr>\n",
       "\t<tr><th scope=row>cigarettes&lt; 5</th><td>-0.1592505</td><td> 0.1851842</td><td> 0.1592505</td><td> 0.1592505</td><td> 0.1592505</td><td> 0.1592505</td></tr>\n",
       "\t<tr><th scope=row>cigarettes5-14</th><td>-0.1592505</td><td> 0.1592505</td><td> 0.1630499</td><td> 0.1592505</td><td> 0.1592505</td><td> 0.1592505</td></tr>\n",
       "\t<tr><th scope=row>cigarettes15-24</th><td>-0.1592505</td><td> 0.1592505</td><td> 0.1592505</td><td> 0.1636759</td><td> 0.1592505</td><td> 0.1592505</td></tr>\n",
       "\t<tr><th scope=row>cigarettes25--49</th><td>-0.1592505</td><td> 0.1592505</td><td> 0.1592505</td><td> 0.1592505</td><td> 0.1691570</td><td> 0.1592505</td></tr>\n",
       "\t<tr><th scope=row>cigarettes50+</th><td>-0.1592505</td><td> 0.1592505</td><td> 0.1592505</td><td> 0.1592505</td><td> 0.1592505</td><td> 0.2688996</td></tr>\n",
       "</tbody>\n",
       "</table>\n"
      ],
      "text/latex": [
       "\\begin{tabular}{r|llllll}\n",
       "  & (Intercept) & cigarettes< 5 & cigarettes5-14 & cigarettes15-24 & cigarettes25--49 & cigarettes50+\\\\\n",
       "\\hline\n",
       "\t(Intercept) &  0.1592505 & -0.1592505 & -0.1592505 & -0.1592505 & -0.1592505 & -0.1592505\\\\\n",
       "\tcigarettes< 5 & -0.1592505 &  0.1851842 &  0.1592505 &  0.1592505 &  0.1592505 &  0.1592505\\\\\n",
       "\tcigarettes5-14 & -0.1592505 &  0.1592505 &  0.1630499 &  0.1592505 &  0.1592505 &  0.1592505\\\\\n",
       "\tcigarettes15-24 & -0.1592505 &  0.1592505 &  0.1592505 &  0.1636759 &  0.1592505 &  0.1592505\\\\\n",
       "\tcigarettes25--49 & -0.1592505 &  0.1592505 &  0.1592505 &  0.1592505 &  0.1691570 &  0.1592505\\\\\n",
       "\tcigarettes50+ & -0.1592505 &  0.1592505 &  0.1592505 &  0.1592505 &  0.1592505 &  0.2688996\\\\\n",
       "\\end{tabular}\n"
      ],
      "text/markdown": [
       "1. 0.15925048255235\n",
       "2. -0.15925048255235\n",
       "3. -0.15925048255235\n",
       "4. -0.15925048255235\n",
       "5. -0.15925048255235\n",
       "6. -0.15925048255235\n",
       "7. -0.15925048255235\n",
       "8. 0.185184238718603\n",
       "9. 0.15925048255235\n",
       "10. 0.15925048255235\n",
       "11. 0.15925048255235\n",
       "12. 0.15925048255235\n",
       "13. -0.15925048255235\n",
       "14. 0.15925048255235\n",
       "15. 0.163049858292313\n",
       "16. 0.15925048255235\n",
       "17. 0.15925048255235\n",
       "18. 0.15925048255235\n",
       "19. -0.15925048255235\n",
       "20. 0.15925048255235\n",
       "21. 0.15925048255235\n",
       "22. 0.163675931325094\n",
       "23. 0.15925048255235\n",
       "24. 0.15925048255235\n",
       "25. -0.15925048255235\n",
       "26. 0.15925048255235\n",
       "27. 0.15925048255235\n",
       "28. 0.15925048255235\n",
       "29. 0.169156958329133\n",
       "30. 0.15925048255235\n",
       "31. -0.15925048255235\n",
       "32. 0.15925048255235\n",
       "33. 0.15925048255235\n",
       "34. 0.15925048255235\n",
       "35. 0.15925048255235\n",
       "36. 0.268899604786061\n",
       "\n",
       "\n"
      ],
      "text/plain": [
       "                 (Intercept) cigarettes< 5 cigarettes5-14 cigarettes15-24\n",
       "(Intercept)        0.1592505    -0.1592505     -0.1592505      -0.1592505\n",
       "cigarettes< 5     -0.1592505     0.1851842      0.1592505       0.1592505\n",
       "cigarettes5-14    -0.1592505     0.1592505      0.1630499       0.1592505\n",
       "cigarettes15-24   -0.1592505     0.1592505      0.1592505       0.1636759\n",
       "cigarettes25--49  -0.1592505     0.1592505      0.1592505       0.1592505\n",
       "cigarettes50+     -0.1592505     0.1592505      0.1592505       0.1592505\n",
       "                 cigarettes25--49 cigarettes50+\n",
       "(Intercept)            -0.1592505    -0.1592505\n",
       "cigarettes< 5           0.1592505     0.1592505\n",
       "cigarettes5-14          0.1592505     0.1592505\n",
       "cigarettes15-24         0.1592505     0.1592505\n",
       "cigarettes25--49        0.1691570     0.1592505\n",
       "cigarettes50+           0.1592505     0.2688996"
      ]
     },
     "metadata": {},
     "output_type": "display_data"
    }
   ],
   "source": [
    "summary(lc.fit1)$cov.unscaled"
   ]
  },
  {
   "cell_type": "markdown",
   "metadata": {},
   "source": [
    "#### $loigt(\\hat{\\pi_i})$ values"
   ]
  },
  {
   "cell_type": "code",
   "execution_count": 12,
   "metadata": {
    "collapsed": false
   },
   "outputs": [
    {
     "data": {
      "text/html": [
       "<dl class=dl-horizontal>\n",
       "\t<dt>1</dt>\n",
       "\t\t<dd>-2.16496371511773</dd>\n",
       "\t<dt>2</dt>\n",
       "\t\t<dd>-0.852479219129202</dd>\n",
       "\t<dt>3</dt>\n",
       "\t\t<dd>-0.153273871353724</dd>\n",
       "\t<dt>4</dt>\n",
       "\t\t<dd>0.097206713930893</dd>\n",
       "\t<dt>5</dt>\n",
       "\t\t<dd>0.643220006603439</dd>\n",
       "\t<dt>6</dt>\n",
       "\t\t<dd>1.15267950993839</dd>\n",
       "</dl>\n"
      ],
      "text/latex": [
       "\\begin{description*}\n",
       "\\item[1] -2.16496371511773\n",
       "\\item[2] -0.852479219129202\n",
       "\\item[3] -0.153273871353724\n",
       "\\item[4] 0.097206713930893\n",
       "\\item[5] 0.643220006603439\n",
       "\\item[6] 1.15267950993839\n",
       "\\end{description*}\n"
      ],
      "text/markdown": [
       "1\n",
       ":   -2.164963715117732\n",
       ":   -0.8524792191292023\n",
       ":   -0.1532738713537244\n",
       ":   0.0972067139308935\n",
       ":   0.6432200066034396\n",
       ":   1.15267950993839\n",
       "\n"
      ],
      "text/plain": [
       "          1           2           3           4           5           6 \n",
       "-2.16496372 -0.85247922 -0.15327387  0.09720671  0.64322001  1.15267951 "
      ]
     },
     "metadata": {},
     "output_type": "display_data"
    }
   ],
   "source": [
    "predict(lc.fit1,type=\"link\") # all 6 logits"
   ]
  },
  {
   "cell_type": "markdown",
   "metadata": {},
   "source": [
    "#### $\\hat{\\pi_i}$ values"
   ]
  },
  {
   "cell_type": "code",
   "execution_count": 13,
   "metadata": {
    "collapsed": false
   },
   "outputs": [
    {
     "data": {
      "text/html": [
       "<dl class=dl-horizontal>\n",
       "\t<dt>1</dt>\n",
       "\t\t<dd>0.102941176470613</dd>\n",
       "\t<dt>2</dt>\n",
       "\t\t<dd>0.298913043478261</dd>\n",
       "\t<dt>3</dt>\n",
       "\t\t<dd>0.461756373937677</dd>\n",
       "\t<dt>4</dt>\n",
       "\t\t<dd>0.524282560706402</dd>\n",
       "\t<dt>5</dt>\n",
       "\t\t<dd>0.655480984340045</dd>\n",
       "\t<dt>6</dt>\n",
       "\t\t<dd>0.76</dd>\n",
       "</dl>\n"
      ],
      "text/latex": [
       "\\begin{description*}\n",
       "\\item[1] 0.102941176470613\n",
       "\\item[2] 0.298913043478261\n",
       "\\item[3] 0.461756373937677\n",
       "\\item[4] 0.524282560706402\n",
       "\\item[5] 0.655480984340045\n",
       "\\item[6] 0.76\n",
       "\\end{description*}\n"
      ],
      "text/markdown": [
       "1\n",
       ":   0.1029411764706132\n",
       ":   0.2989130434782613\n",
       ":   0.4617563739376774\n",
       ":   0.5242825607064025\n",
       ":   0.6554809843400456\n",
       ":   0.76\n",
       "\n"
      ],
      "text/plain": [
       "        1         2         3         4         5         6 \n",
       "0.1029412 0.2989130 0.4617564 0.5242826 0.6554810 0.7600000 "
      ]
     },
     "metadata": {},
     "output_type": "display_data"
    }
   ],
   "source": [
    "predict(lc.fit1,type=\"response\") # pi_i for all 6 categories"
   ]
  },
  {
   "cell_type": "markdown",
   "metadata": {},
   "source": [
    "#### Change the reference group : None -> 50+ "
   ]
  },
  {
   "cell_type": "code",
   "execution_count": 14,
   "metadata": {
    "collapsed": false
   },
   "outputs": [
    {
     "data": {
      "text/html": [
       "<ol class=list-inline>\n",
       "\t<li>'50+'</li>\n",
       "\t<li>'25--49'</li>\n",
       "\t<li>'15-24'</li>\n",
       "\t<li>'5-14'</li>\n",
       "\t<li>'&lt; 5'</li>\n",
       "\t<li>'None'</li>\n",
       "</ol>\n"
      ],
      "text/latex": [
       "\\begin{enumerate*}\n",
       "\\item '50+'\n",
       "\\item '25--49'\n",
       "\\item '15-24'\n",
       "\\item '5-14'\n",
       "\\item '< 5'\n",
       "\\item 'None'\n",
       "\\end{enumerate*}\n"
      ],
      "text/markdown": [
       "1. '50+'\n",
       "2. '25--49'\n",
       "3. '15-24'\n",
       "4. '5-14'\n",
       "5. '&lt; 5'\n",
       "6. 'None'\n",
       "\n",
       "\n"
      ],
      "text/plain": [
       "[1] \"50+\"    \"25--49\" \"15-24\"  \"5-14\"   \"< 5\"    \"None\"  "
      ]
     },
     "metadata": {},
     "output_type": "display_data"
    }
   ],
   "source": [
    "lc$cigarettes = factor(lc$cigarettes,levels=rev(levels(lc$cigarettes)))\n",
    "levels(lc$cigarettes) # check the levels , \"50+\" is the reference group"
   ]
  },
  {
   "cell_type": "code",
   "execution_count": 15,
   "metadata": {
    "collapsed": false
   },
   "outputs": [
    {
     "data": {
      "text/plain": [
       "\n",
       "Call:\n",
       "glm(formula = cbind(cases, controls) ~ cigarettes, family = binomial(), \n",
       "    data = lc)\n",
       "\n",
       "Deviance Residuals: \n",
       "[1]  0  0  0  0  0  0\n",
       "\n",
       "Coefficients:\n",
       "                 Estimate Std. Error z value Pr(>|z|)    \n",
       "(Intercept)        1.1527     0.3311   3.481 0.000500 ***\n",
       "cigarettes25--49  -0.5095     0.3458  -1.473 0.140640    \n",
       "cigarettes15-24   -1.0555     0.3377  -3.125 0.001778 ** \n",
       "cigarettes5-14    -1.3060     0.3368  -3.877 0.000106 ***\n",
       "cigarettes< 5     -2.0052     0.3682  -5.446 5.16e-08 ***\n",
       "cigarettesNone    -3.3176     0.5186  -6.398 1.58e-10 ***\n",
       "---\n",
       "Signif. codes:  0 ‘***’ 0.001 ‘**’ 0.01 ‘*’ 0.05 ‘.’ 0.1 ‘ ’ 1\n",
       "\n",
       "(Dispersion parameter for binomial family taken to be 1)\n",
       "\n",
       "    Null deviance: 1.4630e+02  on 5  degrees of freedom\n",
       "Residual deviance: 4.9072e-14  on 0  degrees of freedom\n",
       "AIC: 46.38\n",
       "\n",
       "Number of Fisher Scoring iterations: 3\n"
      ]
     },
     "metadata": {},
     "output_type": "display_data"
    }
   ],
   "source": [
    "lc.fit1a = glm(cbind(cases,controls)~cigarettes,data=lc,family=binomial())\n",
    "summary(lc.fit1a)"
   ]
  },
  {
   "cell_type": "markdown",
   "metadata": {},
   "source": [
    "- __intercept__ is _log odds for 50+ smokers_\n",
    "- __other parameter estimates__ are the log odds ratios _relative to non-smokers_ for the other 5 levels of smoking"
   ]
  },
  {
   "cell_type": "markdown",
   "metadata": {},
   "source": [
    "#### ANOVA scheme : $loigt(\\hat{\\pi_i})$ values and $\\hat{\\pi_i}$ values "
   ]
  },
  {
   "cell_type": "code",
   "execution_count": 16,
   "metadata": {
    "collapsed": false
   },
   "outputs": [
    {
     "data": {
      "text/html": [
       "<dl class=dl-horizontal>\n",
       "\t<dt>1</dt>\n",
       "\t\t<dd>-2.16496371511774</dd>\n",
       "\t<dt>2</dt>\n",
       "\t\t<dd>-0.852479219129202</dd>\n",
       "\t<dt>3</dt>\n",
       "\t\t<dd>-0.153273871353724</dd>\n",
       "\t<dt>4</dt>\n",
       "\t\t<dd>0.0972067139308934</dd>\n",
       "\t<dt>5</dt>\n",
       "\t\t<dd>0.643220006603437</dd>\n",
       "\t<dt>6</dt>\n",
       "\t\t<dd>1.15267950993839</dd>\n",
       "</dl>\n"
      ],
      "text/latex": [
       "\\begin{description*}\n",
       "\\item[1] -2.16496371511774\n",
       "\\item[2] -0.852479219129202\n",
       "\\item[3] -0.153273871353724\n",
       "\\item[4] 0.0972067139308934\n",
       "\\item[5] 0.643220006603437\n",
       "\\item[6] 1.15267950993839\n",
       "\\end{description*}\n"
      ],
      "text/markdown": [
       "1\n",
       ":   -2.164963715117742\n",
       ":   -0.8524792191292023\n",
       ":   -0.1532738713537244\n",
       ":   0.09720671393089345\n",
       ":   0.6432200066034376\n",
       ":   1.15267950993839\n",
       "\n"
      ],
      "text/plain": [
       "          1           2           3           4           5           6 \n",
       "-2.16496372 -0.85247922 -0.15327387  0.09720671  0.64322001  1.15267951 "
      ]
     },
     "metadata": {},
     "output_type": "display_data"
    },
    {
     "data": {
      "text/html": [
       "<dl class=dl-horizontal>\n",
       "\t<dt>1</dt>\n",
       "\t\t<dd>0.102941176470612</dd>\n",
       "\t<dt>2</dt>\n",
       "\t\t<dd>0.298913043478261</dd>\n",
       "\t<dt>3</dt>\n",
       "\t\t<dd>0.461756373937677</dd>\n",
       "\t<dt>4</dt>\n",
       "\t\t<dd>0.524282560706402</dd>\n",
       "\t<dt>5</dt>\n",
       "\t\t<dd>0.655480984340045</dd>\n",
       "\t<dt>6</dt>\n",
       "\t\t<dd>0.76</dd>\n",
       "</dl>\n"
      ],
      "text/latex": [
       "\\begin{description*}\n",
       "\\item[1] 0.102941176470612\n",
       "\\item[2] 0.298913043478261\n",
       "\\item[3] 0.461756373937677\n",
       "\\item[4] 0.524282560706402\n",
       "\\item[5] 0.655480984340045\n",
       "\\item[6] 0.76\n",
       "\\end{description*}\n"
      ],
      "text/markdown": [
       "1\n",
       ":   0.1029411764706122\n",
       ":   0.2989130434782613\n",
       ":   0.4617563739376774\n",
       ":   0.5242825607064025\n",
       ":   0.6554809843400456\n",
       ":   0.76\n",
       "\n"
      ],
      "text/plain": [
       "        1         2         3         4         5         6 \n",
       "0.1029412 0.2989130 0.4617564 0.5242826 0.6554810 0.7600000 "
      ]
     },
     "metadata": {},
     "output_type": "display_data"
    }
   ],
   "source": [
    "predict(lc.fit1a,type=\"link\") # all 6 logits\n",
    "predict(lc.fit1a,type=\"response\") # pi_i for all 6 categories"
   ]
  },
  {
   "cell_type": "markdown",
   "metadata": {},
   "source": [
    "#### check the levels , \"none\" is the reference group"
   ]
  },
  {
   "cell_type": "code",
   "execution_count": 17,
   "metadata": {
    "collapsed": false
   },
   "outputs": [
    {
     "data": {
      "text/html": [
       "<ol class=list-inline>\n",
       "\t<li>'None'</li>\n",
       "\t<li>'&lt; 5'</li>\n",
       "\t<li>'5-14'</li>\n",
       "\t<li>'15-24'</li>\n",
       "\t<li>'25--49'</li>\n",
       "\t<li>'50+'</li>\n",
       "</ol>\n"
      ],
      "text/latex": [
       "\\begin{enumerate*}\n",
       "\\item 'None'\n",
       "\\item '< 5'\n",
       "\\item '5-14'\n",
       "\\item '15-24'\n",
       "\\item '25--49'\n",
       "\\item '50+'\n",
       "\\end{enumerate*}\n"
      ],
      "text/markdown": [
       "1. 'None'\n",
       "2. '&lt; 5'\n",
       "3. '5-14'\n",
       "4. '15-24'\n",
       "5. '25--49'\n",
       "6. '50+'\n",
       "\n",
       "\n"
      ],
      "text/plain": [
       "[1] \"None\"   \"< 5\"    \"5-14\"   \"15-24\"  \"25--49\" \"50+\"   "
      ]
     },
     "metadata": {},
     "output_type": "display_data"
    }
   ],
   "source": [
    "lc$cigarettes = factor(lc$cigarettes,levels=rev(levels(lc$cigarettes))) # change the levels back \n",
    "levels(lc$cigarettes)"
   ]
  },
  {
   "cell_type": "markdown",
   "metadata": {},
   "source": [
    "### 2. Dummy variable (Contrast : Sum-to-Zero)"
   ]
  },
  {
   "cell_type": "code",
   "execution_count": 26,
   "metadata": {
    "collapsed": false
   },
   "outputs": [
    {
     "data": {
      "text/html": [
       "<dl class=dl-horizontal>\n",
       "\t<dt>unordered</dt>\n",
       "\t\t<dd>'contr.treatment'</dd>\n",
       "\t<dt>ordered</dt>\n",
       "\t\t<dd>'contr.poly'</dd>\n",
       "</dl>\n"
      ],
      "text/latex": [
       "\\begin{description*}\n",
       "\\item[unordered] 'contr.treatment'\n",
       "\\item[ordered] 'contr.poly'\n",
       "\\end{description*}\n"
      ],
      "text/markdown": [
       "unordered\n",
       ":   'contr.treatment'ordered\n",
       ":   'contr.poly'\n",
       "\n"
      ],
      "text/plain": [
       "        unordered           ordered \n",
       "\"contr.treatment\"      \"contr.poly\" "
      ]
     },
     "metadata": {},
     "output_type": "display_data"
    },
    {
     "data": {
      "text/html": [
       "<ol class=list-inline>\n",
       "\t<li>None</li>\n",
       "\t<li>&lt; 5</li>\n",
       "\t<li>5-14</li>\n",
       "\t<li>15-24</li>\n",
       "\t<li>25--49</li>\n",
       "\t<li>50+</li>\n",
       "</ol>\n"
      ],
      "text/latex": [
       "\\begin{enumerate*}\n",
       "\\item None\n",
       "\\item < 5\n",
       "\\item 5-14\n",
       "\\item 15-24\n",
       "\\item 25--49\n",
       "\\item 50+\n",
       "\\end{enumerate*}\n"
      ],
      "text/markdown": [
       "1. None\n",
       "2. &lt; 5\n",
       "3. 5-14\n",
       "4. 15-24\n",
       "5. 25--49\n",
       "6. 50+\n",
       "\n",
       "\n"
      ],
      "text/plain": [
       "[1] None   < 5    5-14   15-24  25--49 50+   \n",
       "attr(,\"contrasts\")\n",
       "       [,1] [,2] [,3] [,4] [,5]\n",
       "None      1    0    0    0    0\n",
       "< 5       0    1    0    0    0\n",
       "5-14      0    0    1    0    0\n",
       "15-24     0    0    0    1    0\n",
       "25--49    0    0    0    0    1\n",
       "50+      -1   -1   -1   -1   -1\n",
       "Levels: None < 5 5-14 15-24 25--49 50+"
      ]
     },
     "metadata": {},
     "output_type": "display_data"
    }
   ],
   "source": [
    "getOption(\"contrasts\")  # contrast option in global environment check \n",
    "\n",
    "lc$cigarettes = C(lc$cigarettes,contr=contr.sum) # change coding to sum-to-zero in this specific dataset\n",
    "lc$cigarettes"
   ]
  },
  {
   "cell_type": "markdown",
   "metadata": {},
   "source": [
    "#### 2.1. Contrast matrix"
   ]
  },
  {
   "cell_type": "code",
   "execution_count": 27,
   "metadata": {
    "collapsed": false
   },
   "outputs": [
    {
     "data": {
      "text/html": [
       "<dl>\n",
       "\t<dt>$levels</dt>\n",
       "\t\t<dd><ol class=list-inline>\n",
       "\t<li>'None'</li>\n",
       "\t<li>'&lt; 5'</li>\n",
       "\t<li>'5-14'</li>\n",
       "\t<li>'15-24'</li>\n",
       "\t<li>'25--49'</li>\n",
       "\t<li>'50+'</li>\n",
       "</ol>\n",
       "</dd>\n",
       "\t<dt>$class</dt>\n",
       "\t\t<dd>'factor'</dd>\n",
       "\t<dt>$contrasts</dt>\n",
       "\t\t<dd><table>\n",
       "<tbody>\n",
       "\t<tr><th scope=row>None</th><td>1</td><td>0</td><td>0</td><td>0</td><td>0</td></tr>\n",
       "\t<tr><th scope=row>&lt; 5</th><td>0</td><td>1</td><td>0</td><td>0</td><td>0</td></tr>\n",
       "\t<tr><th scope=row>5-14</th><td>0</td><td>0</td><td>1</td><td>0</td><td>0</td></tr>\n",
       "\t<tr><th scope=row>15-24</th><td>0</td><td>0</td><td>0</td><td>1</td><td>0</td></tr>\n",
       "\t<tr><th scope=row>25--49</th><td>0</td><td>0</td><td>0</td><td>0</td><td>1</td></tr>\n",
       "\t<tr><th scope=row>50+</th><td>-1</td><td>-1</td><td>-1</td><td>-1</td><td>-1</td></tr>\n",
       "</tbody>\n",
       "</table>\n",
       "</dd>\n",
       "</dl>\n"
      ],
      "text/latex": [
       "\\begin{description}\n",
       "\\item[\\$levels] \\begin{enumerate*}\n",
       "\\item 'None'\n",
       "\\item '< 5'\n",
       "\\item '5-14'\n",
       "\\item '15-24'\n",
       "\\item '25--49'\n",
       "\\item '50+'\n",
       "\\end{enumerate*}\n",
       "\n",
       "\\item[\\$class] 'factor'\n",
       "\\item[\\$contrasts] \\begin{tabular}{r|lllll}\n",
       "\tNone & 1 & 0 & 0 & 0 & 0\\\\\n",
       "\t< 5 & 0 & 1 & 0 & 0 & 0\\\\\n",
       "\t5-14 & 0 & 0 & 1 & 0 & 0\\\\\n",
       "\t15-24 & 0 & 0 & 0 & 1 & 0\\\\\n",
       "\t25--49 & 0 & 0 & 0 & 0 & 1\\\\\n",
       "\t50+ & -1 & -1 & -1 & -1 & -1\\\\\n",
       "\\end{tabular}\n",
       "\n",
       "\\end{description}\n"
      ],
      "text/markdown": [
       "$levels\n",
       ":   1. 'None'\n",
       "2. '&lt; 5'\n",
       "3. '5-14'\n",
       "4. '15-24'\n",
       "5. '25--49'\n",
       "6. '50+'\n",
       "\n",
       "\n",
       "\n",
       "$class\n",
       ":   'factor'\n",
       "$contrasts\n",
       ":   1. 1\n",
       "2. 0\n",
       "3. 0\n",
       "4. 0\n",
       "5. 0\n",
       "6. -1\n",
       "7. 0\n",
       "8. 1\n",
       "9. 0\n",
       "10. 0\n",
       "11. 0\n",
       "12. -1\n",
       "13. 0\n",
       "14. 0\n",
       "15. 1\n",
       "16. 0\n",
       "17. 0\n",
       "18. -1\n",
       "19. 0\n",
       "20. 0\n",
       "21. 0\n",
       "22. 1\n",
       "23. 0\n",
       "24. -1\n",
       "25. 0\n",
       "26. 0\n",
       "27. 0\n",
       "28. 0\n",
       "29. 1\n",
       "30. -1\n",
       "\n",
       "\n",
       "\n",
       "\n",
       "\n"
      ],
      "text/plain": [
       "$levels\n",
       "[1] \"None\"   \"< 5\"    \"5-14\"   \"15-24\"  \"25--49\" \"50+\"   \n",
       "\n",
       "$class\n",
       "[1] \"factor\"\n",
       "\n",
       "$contrasts\n",
       "       [,1] [,2] [,3] [,4] [,5]\n",
       "None      1    0    0    0    0\n",
       "< 5       0    1    0    0    0\n",
       "5-14      0    0    1    0    0\n",
       "15-24     0    0    0    1    0\n",
       "25--49    0    0    0    0    1\n",
       "50+      -1   -1   -1   -1   -1\n"
      ]
     },
     "metadata": {},
     "output_type": "display_data"
    }
   ],
   "source": [
    "attributes(lc$cigarettes) # want to see the dummy variable matrix?"
   ]
  },
  {
   "cell_type": "markdown",
   "metadata": {},
   "source": [
    "#### 2.2. Fitting logistic linear model with sum-to-zero constraint"
   ]
  },
  {
   "cell_type": "code",
   "execution_count": 29,
   "metadata": {
    "collapsed": false
   },
   "outputs": [
    {
     "data": {
      "text/plain": [
       "\n",
       "Call:\n",
       "glm(formula = cbind(cases, controls) ~ cigarettes, family = binomial(), \n",
       "    data = lc)\n",
       "\n",
       "Deviance Residuals: \n",
       "[1]  0  0  0  0  0  0\n",
       "\n",
       "Coefficients:\n",
       "            Estimate Std. Error z value Pr(>|z|)    \n",
       "(Intercept) -0.21294    0.09324  -2.284  0.02239 *  \n",
       "cigarettes1 -1.95203    0.33891  -5.760 8.43e-09 ***\n",
       "cigarettes2 -0.63954    0.16119  -3.968 7.26e-05 ***\n",
       "cigarettes3  0.05966    0.10595   0.563  0.57338    \n",
       "cigarettes4  0.31014    0.10791   2.874  0.00405 ** \n",
       "cigarettes5  0.85616    0.12368   6.922 4.45e-12 ***\n",
       "---\n",
       "Signif. codes:  0 ‘***’ 0.001 ‘**’ 0.01 ‘*’ 0.05 ‘.’ 0.1 ‘ ’ 1\n",
       "\n",
       "(Dispersion parameter for binomial family taken to be 1)\n",
       "\n",
       "    Null deviance: 1.4630e+02  on 5  degrees of freedom\n",
       "Residual deviance: 5.1292e-14  on 0  degrees of freedom\n",
       "AIC: 46.38\n",
       "\n",
       "Number of Fisher Scoring iterations: 3\n"
      ]
     },
     "metadata": {},
     "output_type": "display_data"
    }
   ],
   "source": [
    "lc.fit2 = glm(cbind(cases,controls)~cigarettes,data=lc,family=binomial())\n",
    "summary(lc.fit2) # parameter estimates change"
   ]
  },
  {
   "cell_type": "markdown",
   "metadata": {},
   "source": [
    "#### 2.3. Dummy variable coding (sum-to-zero constraint) : $loigt(\\hat{\\pi_i})$ values and $\\hat{\\pi_i}$ values "
   ]
  },
  {
   "cell_type": "code",
   "execution_count": 30,
   "metadata": {
    "collapsed": false
   },
   "outputs": [
    {
     "data": {
      "text/html": [
       "<dl class=dl-horizontal>\n",
       "\t<dt>1</dt>\n",
       "\t\t<dd>-2.16496371511774</dd>\n",
       "\t<dt>2</dt>\n",
       "\t\t<dd>-0.852479219129201</dd>\n",
       "\t<dt>3</dt>\n",
       "\t\t<dd>-0.153273871353724</dd>\n",
       "\t<dt>4</dt>\n",
       "\t\t<dd>0.0972067139308932</dd>\n",
       "\t<dt>5</dt>\n",
       "\t\t<dd>0.643220006603438</dd>\n",
       "\t<dt>6</dt>\n",
       "\t\t<dd>1.15267950993839</dd>\n",
       "</dl>\n"
      ],
      "text/latex": [
       "\\begin{description*}\n",
       "\\item[1] -2.16496371511774\n",
       "\\item[2] -0.852479219129201\n",
       "\\item[3] -0.153273871353724\n",
       "\\item[4] 0.0972067139308932\n",
       "\\item[5] 0.643220006603438\n",
       "\\item[6] 1.15267950993839\n",
       "\\end{description*}\n"
      ],
      "text/markdown": [
       "1\n",
       ":   -2.164963715117742\n",
       ":   -0.8524792191292013\n",
       ":   -0.1532738713537244\n",
       ":   0.09720671393089325\n",
       ":   0.6432200066034386\n",
       ":   1.15267950993839\n",
       "\n"
      ],
      "text/plain": [
       "          1           2           3           4           5           6 \n",
       "-2.16496372 -0.85247922 -0.15327387  0.09720671  0.64322001  1.15267951 "
      ]
     },
     "metadata": {},
     "output_type": "display_data"
    },
    {
     "data": {
      "text/html": [
       "<dl class=dl-horizontal>\n",
       "\t<dt>1</dt>\n",
       "\t\t<dd>0.102941176470612</dd>\n",
       "\t<dt>2</dt>\n",
       "\t\t<dd>0.298913043478261</dd>\n",
       "\t<dt>3</dt>\n",
       "\t\t<dd>0.461756373937677</dd>\n",
       "\t<dt>4</dt>\n",
       "\t\t<dd>0.524282560706402</dd>\n",
       "\t<dt>5</dt>\n",
       "\t\t<dd>0.655480984340045</dd>\n",
       "\t<dt>6</dt>\n",
       "\t\t<dd>0.76</dd>\n",
       "</dl>\n"
      ],
      "text/latex": [
       "\\begin{description*}\n",
       "\\item[1] 0.102941176470612\n",
       "\\item[2] 0.298913043478261\n",
       "\\item[3] 0.461756373937677\n",
       "\\item[4] 0.524282560706402\n",
       "\\item[5] 0.655480984340045\n",
       "\\item[6] 0.76\n",
       "\\end{description*}\n"
      ],
      "text/markdown": [
       "1\n",
       ":   0.1029411764706122\n",
       ":   0.2989130434782613\n",
       ":   0.4617563739376774\n",
       ":   0.5242825607064025\n",
       ":   0.6554809843400456\n",
       ":   0.76\n",
       "\n"
      ],
      "text/plain": [
       "        1         2         3         4         5         6 \n",
       "0.1029412 0.2989130 0.4617564 0.5242826 0.6554810 0.7600000 "
      ]
     },
     "metadata": {},
     "output_type": "display_data"
    }
   ],
   "source": [
    "predict(lc.fit2,type=\"link\") # all 6 logits (and are the same as for lc.fit1)\n",
    "predict(lc.fit2,type=\"response\") # pi_i for all 6 categories"
   ]
  },
  {
   "cell_type": "markdown",
   "metadata": {},
   "source": [
    "#### 2.4. Comparison of log OR in different coding schemes\n",
    "- log(OR) should be the same regardless of coding schemes"
   ]
  },
  {
   "cell_type": "markdown",
   "metadata": {},
   "source": [
    "##### 2.4.1. ANOVA type coding (ref : None)"
   ]
  },
  {
   "cell_type": "code",
   "execution_count": 31,
   "metadata": {
    "collapsed": false
   },
   "outputs": [
    {
     "data": {
      "text/html": [
       "<dl class=dl-horizontal>\n",
       "\t<dt>2</dt>\n",
       "\t\t<dd>1.31248449598853</dd>\n",
       "\t<dt>3</dt>\n",
       "\t\t<dd>2.01168984376401</dd>\n",
       "\t<dt>4</dt>\n",
       "\t\t<dd>2.26217042904863</dd>\n",
       "\t<dt>5</dt>\n",
       "\t\t<dd>2.80818372172117</dd>\n",
       "\t<dt>6</dt>\n",
       "\t\t<dd>3.31764322505612</dd>\n",
       "</dl>\n"
      ],
      "text/latex": [
       "\\begin{description*}\n",
       "\\item[2] 1.31248449598853\n",
       "\\item[3] 2.01168984376401\n",
       "\\item[4] 2.26217042904863\n",
       "\\item[5] 2.80818372172117\n",
       "\\item[6] 3.31764322505612\n",
       "\\end{description*}\n"
      ],
      "text/markdown": [
       "2\n",
       ":   1.312484495988533\n",
       ":   2.011689843764014\n",
       ":   2.262170429048635\n",
       ":   2.808183721721176\n",
       ":   3.31764322505612\n",
       "\n"
      ],
      "text/plain": [
       "       2        3        4        5        6 \n",
       "1.312484 2.011690 2.262170 2.808184 3.317643 "
      ]
     },
     "metadata": {},
     "output_type": "display_data"
    }
   ],
   "source": [
    "# ANOVA type coding (ref : None)\n",
    "logits = predict(lc.fit1,type=\"link\")\n",
    "\n",
    "# log odds ratios for levels 2 through 6 relative to 1 compare with the parameter estimates from \"lc.fit1\"\n",
    "logits[2:6]-logits[1] "
   ]
  },
  {
   "cell_type": "markdown",
   "metadata": {},
   "source": [
    "- For each row $i>2$, it means $log(OR)$ of $Y$ between level $i$ and level 1.\n",
    "- lc.fit1 : reference group is None."
   ]
  },
  {
   "cell_type": "markdown",
   "metadata": {},
   "source": [
    "##### 2.4.2. ANOVA type coding (ref : 50+)"
   ]
  },
  {
   "cell_type": "code",
   "execution_count": 34,
   "metadata": {
    "collapsed": false
   },
   "outputs": [
    {
     "data": {
      "text/html": [
       "<dl class=dl-horizontal>\n",
       "\t<dt>2</dt>\n",
       "\t\t<dd>1.31248449598854</dd>\n",
       "\t<dt>3</dt>\n",
       "\t\t<dd>2.01168984376401</dd>\n",
       "\t<dt>4</dt>\n",
       "\t\t<dd>2.26217042904863</dd>\n",
       "\t<dt>5</dt>\n",
       "\t\t<dd>2.80818372172117</dd>\n",
       "\t<dt>6</dt>\n",
       "\t\t<dd>3.31764322505612</dd>\n",
       "</dl>\n"
      ],
      "text/latex": [
       "\\begin{description*}\n",
       "\\item[2] 1.31248449598854\n",
       "\\item[3] 2.01168984376401\n",
       "\\item[4] 2.26217042904863\n",
       "\\item[5] 2.80818372172117\n",
       "\\item[6] 3.31764322505612\n",
       "\\end{description*}\n"
      ],
      "text/markdown": [
       "2\n",
       ":   1.312484495988543\n",
       ":   2.011689843764014\n",
       ":   2.262170429048635\n",
       ":   2.808183721721176\n",
       ":   3.31764322505612\n",
       "\n"
      ],
      "text/plain": [
       "       2        3        4        5        6 \n",
       "1.312484 2.011690 2.262170 2.808184 3.317643 "
      ]
     },
     "metadata": {},
     "output_type": "display_data"
    }
   ],
   "source": [
    "# ANOVA type coding (ref : 50+)\n",
    "logits = predict(lc.fit1a,type=\"link\")\n",
    "\n",
    "# log odds ratios for levels 2 through 6 relative to 1 compare with the parameter estimates from \"lc.fit1a\"\n",
    "logits[2:6]-logits[1] "
   ]
  },
  {
   "cell_type": "markdown",
   "metadata": {},
   "source": [
    "- For each row $i>2$, it means $log(OR)$ of $Y$ between level $i$ and level 1.\n",
    "- lc.fitla : reference group is 50+."
   ]
  },
  {
   "cell_type": "markdown",
   "metadata": {},
   "source": [
    "##### 2.4.3. dummy variable coding (sum-to-zero constraint)"
   ]
  },
  {
   "cell_type": "code",
   "execution_count": 35,
   "metadata": {
    "collapsed": false
   },
   "outputs": [
    {
     "data": {
      "text/html": [
       "<dl class=dl-horizontal>\n",
       "\t<dt>2</dt>\n",
       "\t\t<dd>1.31248449598853</dd>\n",
       "\t<dt>3</dt>\n",
       "\t\t<dd>2.01168984376401</dd>\n",
       "\t<dt>4</dt>\n",
       "\t\t<dd>2.26217042904863</dd>\n",
       "\t<dt>5</dt>\n",
       "\t\t<dd>2.80818372172117</dd>\n",
       "\t<dt>6</dt>\n",
       "\t\t<dd>3.31764322505612</dd>\n",
       "</dl>\n"
      ],
      "text/latex": [
       "\\begin{description*}\n",
       "\\item[2] 1.31248449598853\n",
       "\\item[3] 2.01168984376401\n",
       "\\item[4] 2.26217042904863\n",
       "\\item[5] 2.80818372172117\n",
       "\\item[6] 3.31764322505612\n",
       "\\end{description*}\n"
      ],
      "text/markdown": [
       "2\n",
       ":   1.312484495988533\n",
       ":   2.011689843764014\n",
       ":   2.262170429048635\n",
       ":   2.808183721721176\n",
       ":   3.31764322505612\n",
       "\n"
      ],
      "text/plain": [
       "       2        3        4        5        6 \n",
       "1.312484 2.011690 2.262170 2.808184 3.317643 "
      ]
     },
     "metadata": {},
     "output_type": "display_data"
    }
   ],
   "source": [
    "# dummy variable coding (sum-to-zero constraint)\n",
    "logits = predict(lc.fit2,type=\"link\")\n",
    "\n",
    "# log odds ratios for levels 2 through 6 relative to 1 compare with the parameter estimates from \"lc.fit2\"\n",
    "logits[2:6]-logits[1] "
   ]
  },
  {
   "cell_type": "code",
   "execution_count": 37,
   "metadata": {
    "collapsed": false
   },
   "outputs": [
    {
     "data": {
      "text/html": [
       "<strong>$cigarettes</strong> = 'contr.treatment'"
      ],
      "text/latex": [
       "\\textbf{\\$cigarettes} = 'contr.treatment'"
      ],
      "text/markdown": [
       "**$cigarettes** = 'contr.treatment'"
      ],
      "text/plain": [
       "$cigarettes\n",
       "[1] \"contr.treatment\"\n"
      ]
     },
     "metadata": {},
     "output_type": "display_data"
    },
    {
     "data": {
      "text/html": [
       "<strong>$cigarettes</strong> = 'contr.sum'"
      ],
      "text/latex": [
       "\\textbf{\\$cigarettes} = 'contr.sum'"
      ],
      "text/markdown": [
       "**$cigarettes** = 'contr.sum'"
      ],
      "text/plain": [
       "$cigarettes\n",
       "[1] \"contr.sum\"\n"
      ]
     },
     "metadata": {},
     "output_type": "display_data"
    },
    {
     "data": {
      "text/html": [
       "<strong>$cigarettes</strong> = 'contr.helmert'"
      ],
      "text/latex": [
       "\\textbf{\\$cigarettes} = 'contr.helmert'"
      ],
      "text/markdown": [
       "**$cigarettes** = 'contr.helmert'"
      ],
      "text/plain": [
       "$cigarettes\n",
       "[1] \"contr.helmert\"\n"
      ]
     },
     "metadata": {},
     "output_type": "display_data"
    }
   ],
   "source": [
    "#alternatively, instead of using 'C\" to change the contrast coding, one can use the 'contrasts' argument to the 'glm' function\n",
    "\n",
    "# ANOVA coding\n",
    "fit1 = glm(cbind(cases,controls)~cigarettes,data=lc,family=binomial(),contrasts=list(cigarettes=\"contr.treatment\"))  \n",
    "\n",
    "# sum to zero contrast\n",
    "fit2 = glm(cbind(cases,controls)~cigarettes,data=lc,family=binomial(),contrasts=list(cigarettes=\"contr.sum\"))  \n",
    "\n",
    "# helmert contrast\n",
    "fit3 = glm(cbind(cases,controls)~cigarettes,data=lc,family=binomial(),contrasts=list(cigarettes=\"contr.helmert\")) \n",
    "\n",
    "# check the contrasts used by 'glm'\n",
    "fit1$contrasts \n",
    "fit2$contrasts\n",
    "fit3$contrasts"
   ]
  },
  {
   "cell_type": "markdown",
   "metadata": {},
   "source": [
    "### 3. Ordered factors"
   ]
  },
  {
   "cell_type": "markdown",
   "metadata": {},
   "source": [
    "- the number of cigarettes is actually ordinal variable\n",
    "\n",
    "1. Score the levels \n",
    "    - 0,1,2,3,4,5 \n",
    "    - it will be treated as continuous predictor\n",
    "\n",
    "2. Use mid-range levels \n",
    "    - 0, 2.5, 9.5, 19.5, 37, 60\n",
    "\n",
    "- For ordinal variable, R default is __orthogonal poly__ to model __ordinal predictors__. \n"
   ]
  },
  {
   "cell_type": "code",
   "execution_count": 40,
   "metadata": {
    "collapsed": false
   },
   "outputs": [],
   "source": [
    "# Ordered factors\n",
    "lc$cigarettes = as.ordered(C(lc$cigarettes,contr=contr.poly)) # now an ordinal variable with scores = 1,2,3,4,5,6"
   ]
  },
  {
   "cell_type": "markdown",
   "metadata": {},
   "source": [
    "#### 3.1. Fitting logit linear model with ordinal factor"
   ]
  },
  {
   "cell_type": "markdown",
   "metadata": {},
   "source": [
    "__Ordinal factors in logit model__\n",
    "\n",
    "$logit(\\pi_{ik}) = \\alpha + \\beta_{1}x_{i1} + \\beta_{2}x_{i2}^2 + \\beta_{3}x_{i3}^2 +...+ \\beta_{I-1}x_{iI-1}^{I-1}$"
   ]
  },
  {
   "cell_type": "markdown",
   "metadata": {},
   "source": [
    "##### 3.1.1 Scoring the levels "
   ]
  },
  {
   "cell_type": "code",
   "execution_count": 41,
   "metadata": {
    "collapsed": false
   },
   "outputs": [
    {
     "data": {
      "text/plain": [
       "\n",
       "Call:\n",
       "glm(formula = cbind(cases, controls) ~ cigarettes, family = binomial(), \n",
       "    data = lc)\n",
       "\n",
       "Deviance Residuals: \n",
       "[1]  0  0  0  0  0  0\n",
       "\n",
       "Coefficients:\n",
       "             Estimate Std. Error z value Pr(>|z|)    \n",
       "(Intercept)  -0.21294    0.09324  -2.284   0.0224 *  \n",
       "cigarettes.L  2.54892    0.31743   8.030 9.76e-16 ***\n",
       "cigarettes.Q -0.50494    0.28640  -1.763   0.0779 .  \n",
       "cigarettes.C  0.38135    0.21871   1.744   0.0812 .  \n",
       "cigarettes^4 -0.09386    0.14933  -0.629   0.5297    \n",
       "cigarettes^5 -0.10432    0.08881  -1.175   0.2401    \n",
       "---\n",
       "Signif. codes:  0 ‘***’ 0.001 ‘**’ 0.01 ‘*’ 0.05 ‘.’ 0.1 ‘ ’ 1\n",
       "\n",
       "(Dispersion parameter for binomial family taken to be 1)\n",
       "\n",
       "    Null deviance: 1.4630e+02  on 5  degrees of freedom\n",
       "Residual deviance: 8.6597e-15  on 0  degrees of freedom\n",
       "AIC: 46.38\n",
       "\n",
       "Number of Fisher Scoring iterations: 3\n"
      ]
     },
     "metadata": {},
     "output_type": "display_data"
    }
   ],
   "source": [
    "lc.fit3 = glm(cbind(cases,controls)~cigarettes,data=lc,family=binomial()) # fit the model\n",
    "summary(lc.fit3) "
   ]
  },
  {
   "cell_type": "markdown",
   "metadata": {},
   "source": [
    "- cigarettes.L = linear term $x_{i1}$\n",
    "- cigarettes.Q = quadratic term $x_{i2}^2$\n",
    "- cigarettes.C = cubic term $x_{i3}^3$\n",
    "- cigarettes^4 = 4th order term $x_{i4}^4$\n",
    "- cigarettes^5 = 5th order term $x_{i5}^5$"
   ]
  },
  {
   "cell_type": "markdown",
   "metadata": {},
   "source": [
    "##### 1st degree polynomial"
   ]
  },
  {
   "cell_type": "code",
   "execution_count": 42,
   "metadata": {
    "collapsed": false
   },
   "outputs": [
    {
     "data": {
      "text/plain": [
       "\n",
       "Call:\n",
       "glm(formula = cbind(cases, controls) ~ cigarettes, family = binomial(), \n",
       "    data = lc)\n",
       "\n",
       "Deviance Residuals: \n",
       "       1         2         3         4         5         6  \n",
       "-2.69342  -0.65142   2.06914  -1.33595  -0.10204   0.09713  \n",
       "\n",
       "Coefficients:\n",
       "             Estimate Std. Error z value Pr(>|z|)    \n",
       "(Intercept)  -0.04745    0.03958  -1.199    0.231    \n",
       "cigarettes.L  1.95453    0.17618  11.094   <2e-16 ***\n",
       "---\n",
       "Signif. codes:  0 ‘***’ 0.001 ‘**’ 0.01 ‘*’ 0.05 ‘.’ 0.1 ‘ ’ 1\n",
       "\n",
       "(Dispersion parameter for binomial family taken to be 1)\n",
       "\n",
       "    Null deviance: 146.299  on 5  degrees of freedom\n",
       "Residual deviance:  13.765  on 4  degrees of freedom\n",
       "AIC: 52.145\n",
       "\n",
       "Number of Fisher Scoring iterations: 4\n"
      ]
     },
     "metadata": {},
     "output_type": "display_data"
    }
   ],
   "source": [
    "# specifies a 1st degree polynomial \n",
    "lc$cigarettes = as.ordered(C(lc$cigarettes,contr=contr.poly,how.many=1)) \n",
    "\n",
    "lc.fit4 = glm(cbind(cases,controls)~cigarettes,data=lc,family=binomial()) # fit the model\n",
    "summary(lc.fit4) # equivalent to the linear logit model"
   ]
  },
  {
   "cell_type": "markdown",
   "metadata": {},
   "source": [
    "##### 3.1.2 Using mid-range levels"
   ]
  },
  {
   "cell_type": "code",
   "execution_count": 43,
   "metadata": {
    "collapsed": false
   },
   "outputs": [
    {
     "data": {
      "text/plain": [
       "\n",
       "Call:\n",
       "glm(formula = cbind(cases, controls) ~ cigarettes, family = binomial(), \n",
       "    data = lc)\n",
       "\n",
       "Deviance Residuals: \n",
       "[1]  0  0  0  0  0  0\n",
       "\n",
       "Coefficients:\n",
       "             Estimate Std. Error z value Pr(>|z|)    \n",
       "(Intercept)  -0.21294    0.09324  -2.284 0.022386 *  \n",
       "cigarettes.L  2.28571    0.30374   7.525 5.26e-14 ***\n",
       "cigarettes.Q -0.88846    0.24220  -3.668 0.000244 ***\n",
       "cigarettes.C  0.65391    0.18396   3.555 0.000379 ***\n",
       "cigarettes^4 -0.58526    0.17755  -3.296 0.000980 ***\n",
       "cigarettes^5  0.36490    0.21100   1.729 0.083735 .  \n",
       "---\n",
       "Signif. codes:  0 ‘***’ 0.001 ‘**’ 0.01 ‘*’ 0.05 ‘.’ 0.1 ‘ ’ 1\n",
       "\n",
       "(Dispersion parameter for binomial family taken to be 1)\n",
       "\n",
       "    Null deviance:  1.4630e+02  on 5  degrees of freedom\n",
       "Residual deviance: -5.4623e-14  on 0  degrees of freedom\n",
       "AIC: 46.38\n",
       "\n",
       "Number of Fisher Scoring iterations: 3\n"
      ]
     },
     "metadata": {},
     "output_type": "display_data"
    }
   ],
   "source": [
    "lc$cigarettes = as.ordered(C(lc$cigarettes,contr=contr.poly,scores=c(0,2.5,9.5,19.5,37,60))) # scoring by the medians\n",
    "\n",
    "lc.fit5 = glm(cbind(cases,controls)~cigarettes,data=lc,family=binomial()) # fit the model\n",
    "summary(lc.fit5) # estimates of course change"
   ]
  },
  {
   "cell_type": "code",
   "execution_count": 45,
   "metadata": {
    "collapsed": false
   },
   "outputs": [
    {
     "data": {
      "text/plain": [
       "\n",
       "Call:\n",
       "glm(formula = cbind(cases, controls) ~ cigarettes, family = binomial(), \n",
       "    data = lc)\n",
       "\n",
       "Deviance Residuals: \n",
       "       1         2         3         4         5         6  \n",
       "-1.36963   1.12839  -0.26875   0.11404  -0.02838   0.00822  \n",
       "\n",
       "Coefficients:\n",
       "             Estimate Std. Error z value Pr(>|z|)    \n",
       "(Intercept)  -0.15695    0.08256  -1.901 0.057289 .  \n",
       "cigarettes.L  2.13728    0.28267   7.561    4e-14 ***\n",
       "cigarettes.Q -0.72644    0.21268  -3.416 0.000636 ***\n",
       "cigarettes.C  0.46600    0.13567   3.435 0.000593 ***\n",
       "cigarettes^4 -0.34096    0.09383  -3.634 0.000279 ***\n",
       "---\n",
       "Signif. codes:  0 ‘***’ 0.001 ‘**’ 0.01 ‘*’ 0.05 ‘.’ 0.1 ‘ ’ 1\n",
       "\n",
       "(Dispersion parameter for binomial family taken to be 1)\n",
       "\n",
       "    Null deviance: 146.2991  on 5  degrees of freedom\n",
       "Residual deviance:   3.2352  on 1  degrees of freedom\n",
       "AIC: 47.615\n",
       "\n",
       "Number of Fisher Scoring iterations: 4\n"
      ]
     },
     "metadata": {},
     "output_type": "display_data"
    }
   ],
   "source": [
    "# remove the 5 degree term which was not significant\n",
    "lc$cigarettes = as.ordered(C(lc$cigarettes,contr=contr.poly,scores=c(0,2.5,9.5,19.5,37,60),how.many=4)) \n",
    "\n",
    "lc.fit6 = glm(cbind(cases,controls)~cigarettes,data=lc,family=binomial()) # fit the model\n",
    "summary(lc.fit6) # estimates of course change"
   ]
  },
  {
   "cell_type": "code",
   "execution_count": 46,
   "metadata": {
    "collapsed": false
   },
   "outputs": [
    {
     "data": {
      "text/html": [
       "<ol class=list-inline>\n",
       "\t<li>0.102941176470588</li>\n",
       "\t<li>0.298913043478261</li>\n",
       "\t<li>0.461756373937677</li>\n",
       "\t<li>0.524282560706402</li>\n",
       "\t<li>0.655480984340045</li>\n",
       "\t<li>0.76</li>\n",
       "</ol>\n"
      ],
      "text/latex": [
       "\\begin{enumerate*}\n",
       "\\item 0.102941176470588\n",
       "\\item 0.298913043478261\n",
       "\\item 0.461756373937677\n",
       "\\item 0.524282560706402\n",
       "\\item 0.655480984340045\n",
       "\\item 0.76\n",
       "\\end{enumerate*}\n"
      ],
      "text/markdown": [
       "1. 0.102941176470588\n",
       "2. 0.298913043478261\n",
       "3. 0.461756373937677\n",
       "4. 0.524282560706402\n",
       "5. 0.655480984340045\n",
       "6. 0.76\n",
       "\n",
       "\n"
      ],
      "text/plain": [
       "[1] 0.1029412 0.2989130 0.4617564 0.5242826 0.6554810 0.7600000"
      ]
     },
     "metadata": {},
     "output_type": "display_data"
    },
    {
     "data": {
      "text/html": [
       "<dl class=dl-horizontal>\n",
       "\t<dt>1</dt>\n",
       "\t\t<dd>0.160557781937147</dd>\n",
       "\t<dt>2</dt>\n",
       "\t\t<dd>0.261817986072945</dd>\n",
       "\t<dt>3</dt>\n",
       "\t\t<dd>0.465875130301634</dd>\n",
       "\t<dt>4</dt>\n",
       "\t\t<dd>0.52239020411166</dd>\n",
       "\t<dt>5</dt>\n",
       "\t\t<dd>0.656118778971818</dd>\n",
       "\t<dt>6</dt>\n",
       "\t\t<dd>0.759503585517084</dd>\n",
       "</dl>\n"
      ],
      "text/latex": [
       "\\begin{description*}\n",
       "\\item[1] 0.160557781937147\n",
       "\\item[2] 0.261817986072945\n",
       "\\item[3] 0.465875130301634\n",
       "\\item[4] 0.52239020411166\n",
       "\\item[5] 0.656118778971818\n",
       "\\item[6] 0.759503585517084\n",
       "\\end{description*}\n"
      ],
      "text/markdown": [
       "1\n",
       ":   0.1605577819371472\n",
       ":   0.2618179860729453\n",
       ":   0.4658751303016344\n",
       ":   0.522390204111665\n",
       ":   0.6561187789718186\n",
       ":   0.759503585517084\n",
       "\n"
      ],
      "text/plain": [
       "        1         2         3         4         5         6 \n",
       "0.1605578 0.2618180 0.4658751 0.5223902 0.6561188 0.7595036 "
      ]
     },
     "metadata": {},
     "output_type": "display_data"
    }
   ],
   "source": [
    "sample.prop = lc$cases/(lc$cases+lc$controls) # sample proportions of lung cancer cases\n",
    "fitted = predict(lc.fit6,type=\"response\")\n",
    "\n",
    "sample.prop\n",
    "fitted"
   ]
  },
  {
   "cell_type": "markdown",
   "metadata": {},
   "source": [
    "##### Plot for mid-range vs. $\\hat{\\pi}_{i}$ for $i=0,1,2,3,4,5$"
   ]
  },
  {
   "cell_type": "code",
   "execution_count": 47,
   "metadata": {
    "collapsed": false
   },
   "outputs": [
    {
     "data": {
      "image/png": "[encoded data removed]",
      "text/plain": [
       "plot without title"
      ]
     },
     "metadata": {},
     "output_type": "display_data"
    }
   ],
   "source": [
    "plot(c(0,2.5,9.5,19.5,37,60),sample.prop,xlab=\"Number Cigarettes\",ylab=\"Prob of Lung Cancer\")\n",
    "lines(c(0,2.5,9.5,19.5,37,60),fitted)"
   ]
  }
 ],
 "metadata": {
  "anaconda-cloud": {},
  "kernelspec": {
   "display_name": "R",
   "language": "R",
   "name": "ir"
  },
  "language_info": {
   "codemirror_mode": "r",
   "file_extension": ".r",
   "mimetype": "text/x-r-source",
   "name": "R",
   "pygments_lexer": "r",
   "version": "3.3.2"
  }
 },
 "nbformat": 4,
 "nbformat_minor": 0
}
